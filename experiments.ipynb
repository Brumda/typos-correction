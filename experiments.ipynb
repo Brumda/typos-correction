{
 "cells": [
  {
   "metadata": {
    "ExecuteTime": {
     "end_time": "2025-02-28T11:25:07.473003Z",
     "start_time": "2025-02-28T11:25:06.238848Z"
    }
   },
   "cell_type": "code",
   "source": "from benchmark import ModelBenchmark",
   "id": "df5a80c1c4074048",
   "outputs": [],
   "execution_count": 1
  },
  {
   "metadata": {
    "ExecuteTime": {
     "end_time": "2025-02-28T11:25:07.486772Z",
     "start_time": "2025-02-28T11:25:07.482666Z"
    }
   },
   "cell_type": "code",
   "source": [
    "DATA_PATH = \"./data/\"\n",
    "with open(DATA_PATH + \"small_clean.txt\", 'r', encoding='utf-8', newline='\\n') as f:\n",
    "    input_clean = [line.strip() for line in f if line != \"\"]\n",
    "\n",
    "with open(DATA_PATH + \"small_corrupt.txt\", 'r', encoding='utf-8', newline='\\n') as f:\n",
    "    input_corrupt = [line.strip() for line in f if line != \"\"]"
   ],
   "id": "e14ef88330d6455d",
   "outputs": [],
   "execution_count": 2
  },
  {
   "metadata": {},
   "cell_type": "markdown",
   "source": "### Baseline",
   "id": "fded7ab268af6db4"
  },
  {
   "metadata": {
    "ExecuteTime": {
     "end_time": "2025-02-27T20:25:47.845978Z",
     "start_time": "2025-02-27T20:25:38.253302Z"
    }
   },
   "cell_type": "code",
   "source": [
    "from symspellpy import symspellpy\n",
    "import pkg_resources\n",
    "import re\n",
    "\n",
    "max_edit_distance = 2\n",
    "prefix_length = 7\n",
    "\n",
    "print(symspellpy.WORD_PATTERN)\n",
    "symspellpy.WORD_PATTERN = re.compile(r\"(([^\\s]+)|['’])\")\n",
    "print(symspellpy.WORD_PATTERN)\n",
    "sym_spell = symspellpy.SymSpell(max_edit_distance, prefix_length)\n",
    "dictionary_path = pkg_resources.resource_filename(\n",
    "    \"symspellpy\", \"frequency_dictionary_en_82_765.txt\")\n",
    "sym_spell.load_dictionary(dictionary_path, term_index=0, count_index=1)\n",
    "# bigram_path = pkg_resources.resource_filename(\n",
    "#     \"symspellpy\", \"frequency_bigramdictionary_en_243_342.txt\")\n",
    "# sym_spell.load_bigram_dictionary(bigram_path, term_index=0, count_index=2)\n",
    "\n",
    "sym_spell.create_dictionary(DATA_PATH + \"corpus.txt\", encoding='utf-8')\n",
    "input_phrase = \"I luk forwad to it\"\n",
    "suggestions = sym_spell.lookup_compound(input_phrase, max_edit_distance=max_edit_distance)\n",
    "\n"
   ],
   "id": "19f0a3f9b8812cde",
   "outputs": [
    {
     "name": "stdout",
     "output_type": "stream",
     "text": [
      "re.compile(\"(([^\\\\s]+)|['’])\")\n",
      "re.compile(\"(([^\\\\s]+)|['’])\")\n",
      "[<symspellpy.suggest_item.SuggestItem object at 0x00000163E2A86590>]\n"
     ]
    }
   ],
   "execution_count": 17
  },
  {
   "metadata": {
    "ExecuteTime": {
     "end_time": "2025-02-27T20:26:04.446797Z",
     "start_time": "2025-02-27T20:26:04.443781Z"
    }
   },
   "cell_type": "code",
   "source": "print(*suggestions)",
   "id": "7150d7898dd1b55e",
   "outputs": [
    {
     "name": "stdout",
     "output_type": "stream",
     "text": [
      "i luck forward to it, 3, 0\n"
     ]
    }
   ],
   "execution_count": 18
  },
  {
   "metadata": {
    "ExecuteTime": {
     "end_time": "2025-02-27T20:24:22.929577Z",
     "start_time": "2025-02-27T20:24:22.926811Z"
    }
   },
   "cell_type": "code",
   "source": "benchmark = ModelBenchmark(device='cpu')",
   "id": "620c1055fed771f4",
   "outputs": [],
   "execution_count": 15
  },
  {
   "metadata": {},
   "cell_type": "code",
   "outputs": [],
   "execution_count": null,
   "source": [
    "benchmark.benchmark_model(sym_spell,\n",
    "                          input_clean,\n",
    "                          input_corrupt,\n",
    "                          \"neuspell-bert\",\n",
    "                          lambda model, data: model.correct_string(data),\n",
    "                          warm_up_runs=0,\n",
    "                          num_runs=2)\n"
   ],
   "id": "8e7f6a7a9ad81194"
  },
  {
   "metadata": {
    "ExecuteTime": {
     "end_time": "2025-02-27T19:07:16.267332Z",
     "start_time": "2025-02-27T19:07:16.263324Z"
    }
   },
   "cell_type": "code",
   "source": [
    "re_word = re.compile(r\"(([^\\s]+)|['’])\")\n",
    "matches = re_word.findall(\"team_number = tr[1].p.span.contents[0]\")\n",
    "print(matches)\n",
    "matches = [match[0] for match in matches]\n",
    "matches"
   ],
   "id": "20d0c8a2ad465041",
   "outputs": [
    {
     "name": "stdout",
     "output_type": "stream",
     "text": [
      "[('team_number', 'team_number'), ('=', '='), ('tr[1].p.span.contents[0]', 'tr[1].p.span.contents[0]')]\n"
     ]
    },
    {
     "data": {
      "text/plain": [
       "['team_number', '=', 'tr[1].p.span.contents[0]']"
      ]
     },
     "execution_count": 35,
     "metadata": {},
     "output_type": "execute_result"
    }
   ],
   "execution_count": 35
  },
  {
   "metadata": {
    "ExecuteTime": {
     "end_time": "2025-02-27T19:01:28.875639Z",
     "start_time": "2025-02-27T19:01:28.873073Z"
    }
   },
   "cell_type": "code",
   "source": [
    "text = \"team_number = tr[1].p.span.contents[0]\"\n",
    "result = re.findall(r'\\S+', text)\n",
    "\n",
    "print(result)"
   ],
   "id": "35f4a2cbb16ec84f",
   "outputs": [
    {
     "name": "stdout",
     "output_type": "stream",
     "text": [
      "['team_number', '=', 'tr[1].p.span.contents[0]']\n"
     ]
    }
   ],
   "execution_count": 18
  },
  {
   "metadata": {},
   "cell_type": "markdown",
   "source": "### Neuspell\n",
   "id": "d82ea1dbdbf90514"
  },
  {
   "metadata": {
    "ExecuteTime": {
     "end_time": "2025-02-28T11:25:12.246073Z",
     "start_time": "2025-02-28T11:25:07.594925Z"
    }
   },
   "cell_type": "code",
   "source": [
    "from neuspell import BertChecker\n",
    "\n",
    "checker = BertChecker(device='cuda')\n",
    "checker.from_pretrained()"
   ],
   "id": "35a00e77b0f9e7e8",
   "outputs": [
    {
     "name": "stdout",
     "output_type": "stream",
     "text": [
      "data folder is set to `C:\\FIT\\bakalarka\\.venv\\Lib\\site-packages\\neuspell\\../neuspell_data` script\n",
      "loading vocab from path:C:\\FIT\\bakalarka\\.venv\\Lib\\site-packages\\neuspell\\../neuspell_data/checkpoints/subwordbert-probwordnoise\\vocab.pkl\n",
      "initializing model\n",
      "loading pretrained weights from path:C:\\FIT\\bakalarka\\.venv\\Lib\\site-packages\\neuspell\\../neuspell_data/checkpoints/subwordbert-probwordnoise\n",
      "Loading model params from checkpoint dir: C:\\FIT\\bakalarka\\.venv\\Lib\\site-packages\\neuspell\\../neuspell_data/checkpoints/subwordbert-probwordnoise\n"
     ]
    }
   ],
   "execution_count": 3
  },
  {
   "metadata": {
    "ExecuteTime": {
     "end_time": "2025-02-28T11:34:54.830808Z",
     "start_time": "2025-02-28T11:34:54.827368Z"
    }
   },
   "cell_type": "code",
   "source": "benchmark = ModelBenchmark()",
   "id": "fb67e605e9ba6b5",
   "outputs": [],
   "execution_count": 6
  },
  {
   "metadata": {
    "ExecuteTime": {
     "end_time": "2025-02-28T11:35:00.145625Z",
     "start_time": "2025-02-28T11:34:55.405652Z"
    }
   },
   "cell_type": "code",
   "source": [
    "benchmark.benchmark_model(checker,\n",
    "                          input_corrupt,\n",
    "                          input_clean,\n",
    "                          \"neuspell-bert\",\n",
    "                          lambda model, data: model.correct_string(data),\n",
    "                          warm_up_runs=0,\n",
    "                          num_runs=2)\n"
   ],
   "id": "4ede1f5ccce2ed7a",
   "outputs": [
    {
     "name": "stdout",
     "output_type": "stream",
     "text": [
      "Starting 0 warm-up iterations for neuspell-bert...\n",
      "Finished warm-up after 0.0 seconds.\n",
      "Starting benchmark iterations...\n",
      "Finished 1/2 iteration in 2.312450647354126 seconds.\n",
      "Finished 2/2 iteration in 2.131199359893799 seconds.\n"
     ]
    },
    {
     "data": {
      "text/plain": [
       "Benchmark results:\n",
       "\tModel: neuspell-bert\n",
       "\tSize: 706.534797668457 MB\n",
       "\tInference Time: 2.2218250036239624 s\n",
       "\tPeak Memory: 0.040357112884521484 MB\n",
       "\tGPU Memory: 841.85302734375 MB\n",
       "\tThroughput: 349.39364587594406 tokens/sec\n",
       "\tThroughput: 28.853152691690866 sentences/sec\n",
       "\tAccuracy tokens: 20.129%\n",
       "\tAccuracy sentences: 0.000%\n",
       "\tCorrect → Correct: 144.0\n",
       "\tCorrect → Incorrect: 452.0\n",
       "\tIncorrect → Correct: 12.0\n",
       "\tIncorrect → Incorrect: 167.0\n",
       "\tWord Correction Rate: 6.704%\n",
       "\tWord Incorrection Rate: 75.839%"
      ]
     },
     "execution_count": 7,
     "metadata": {},
     "output_type": "execute_result"
    }
   ],
   "execution_count": 7
  },
  {
   "metadata": {},
   "cell_type": "code",
   "source": "print(*checker.evaluate(DATA_PATH + \"small_clean.txt\", DATA_PATH + \"small_corrupt.txt\"))",
   "id": "9b0cea2cfd5b60c0",
   "outputs": [],
   "execution_count": null
  },
  {
   "metadata": {
    "ExecuteTime": {
     "end_time": "2025-02-26T16:20:24.295650Z",
     "start_time": "2025-02-26T16:20:24.291451Z"
    }
   },
   "cell_type": "code",
   "source": "input_corrupt[0]",
   "id": "57510b7937d81b46",
   "outputs": [
    {
     "data": {
      "text/plain": [
       "'team_number = tr[1].p.span.contents[0]'"
      ]
     },
     "execution_count": 3,
     "metadata": {},
     "output_type": "execute_result"
    }
   ],
   "execution_count": 3
  },
  {
   "metadata": {
    "ExecuteTime": {
     "end_time": "2025-02-27T20:22:08.996930Z",
     "start_time": "2025-02-27T20:22:08.892969Z"
    }
   },
   "cell_type": "code",
   "source": [
    "checker.correct_string(input_corrupt[0])\n",
    "# checker.correct_string(\" I luk forawd to itd.\")"
   ],
   "id": "a755b3b292569722",
   "outputs": [
    {
     "name": "stdout",
     "output_type": "stream",
     "text": [
      "_batch_orginal_sentences:['team _ number = tr [ 1 ] . p . span . contents [ 0 ]']\n",
      "mystrings:['team _ number = tr [ 1 ] . p . span . contents [ 0 ]']\n",
      "_batch_orginal_sentences:['team _ number = tr [ 1 ] . p . span . contents [ 0 ]']\n"
     ]
    },
    {
     "data": {
      "text/plain": [
       "'team _ number = tr [ 1 ] . p . span . contents [ 0 ]'"
      ]
     },
     "execution_count": 14,
     "metadata": {},
     "output_type": "execute_result"
    }
   ],
   "execution_count": 14
  },
  {
   "metadata": {
    "ExecuteTime": {
     "end_time": "2025-02-26T16:07:11.819904Z",
     "start_time": "2025-02-26T16:07:11.815904Z"
    }
   },
   "cell_type": "code",
   "source": "input_clean[1]",
   "id": "9339ec9087ef43f6",
   "outputs": [
    {
     "data": {
      "text/plain": [
       "'* The internal method that handles the pointer over event from the browser.'"
      ]
     },
     "execution_count": 9,
     "metadata": {},
     "output_type": "execute_result"
    }
   ],
   "execution_count": 9
  },
  {
   "metadata": {
    "ExecuteTime": {
     "end_time": "2025-02-26T16:41:47.718451Z",
     "start_time": "2025-02-26T16:41:47.475757Z"
    }
   },
   "cell_type": "code",
   "source": [
    "from transformers import BertTokenizerFast\n",
    "\n",
    "tokenizer = BertTokenizerFast.from_pretrained(\"bert-base-cased\")\n",
    "\n",
    "# Disable splitting on special characters using custom pre-tokenizer\n",
    "tokenizer.backend_tokenizer.pre_tokenizer = None\n",
    "tokenizer.tokenize('team_number = tr[1].p.span.contents[0]')"
   ],
   "id": "811d7924751a48be",
   "outputs": [
    {
     "data": {
      "text/plain": [
       "['[UNK]']"
      ]
     },
     "execution_count": 35,
     "metadata": {},
     "output_type": "execute_result"
    }
   ],
   "execution_count": 35
  },
  {
   "metadata": {
    "ExecuteTime": {
     "end_time": "2025-02-26T16:41:16.021440Z",
     "start_time": "2025-02-26T16:41:16.017869Z"
    }
   },
   "cell_type": "code",
   "source": "",
   "id": "b18ba95116887c08",
   "outputs": [
    {
     "data": {
      "text/plain": [
       "['[UNK]']"
      ]
     },
     "execution_count": 33,
     "metadata": {},
     "output_type": "execute_result"
    }
   ],
   "execution_count": 33
  },
  {
   "metadata": {},
   "cell_type": "code",
   "outputs": [],
   "execution_count": null,
   "source": "",
   "id": "e85ab6c3541f6f7f"
  }
 ],
 "metadata": {
  "kernelspec": {
   "display_name": "Python 3",
   "language": "python",
   "name": "python3"
  },
  "language_info": {
   "codemirror_mode": {
    "name": "ipython",
    "version": 2
   },
   "file_extension": ".py",
   "mimetype": "text/x-python",
   "name": "python",
   "nbconvert_exporter": "python",
   "pygments_lexer": "ipython2",
   "version": "2.7.6"
  }
 },
 "nbformat": 4,
 "nbformat_minor": 5
}
